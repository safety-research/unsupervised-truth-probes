{
 "cells": [
  {
   "cell_type": "code",
   "execution_count": 1,
   "metadata": {},
   "outputs": [
    {
     "name": "stderr",
     "output_type": "stream",
     "text": [
      "/Users/callumcanavan/code/unsupervised-truth-probes/.venv/lib/python3.13/site-packages/tqdm/auto.py:21: TqdmWarning: IProgress not found. Please update jupyter and ipywidgets. See https://ipywidgets.readthedocs.io/en/stable/user_install.html\n",
      "  from .autonotebook import tqdm as notebook_tqdm\n",
      "/Users/callumcanavan/code/unsupervised-truth-probes/.venv/lib/python3.13/site-packages/transformers/utils/hub.py:111: FutureWarning: Using `TRANSFORMERS_CACHE` is deprecated and will be removed in v5 of Transformers. Use `HF_HOME` instead.\n",
      "  warnings.warn(\n"
     ]
    }
   ],
   "source": [
    "import os\n",
    "\n",
    "# Set Hugging Face cache directories to a writable location\n",
    "cache_dir = os.path.expanduser('~/.cache/huggingface')\n",
    "os.environ['HF_HOME'] = cache_dir\n",
    "os.environ['TRANSFORMERS_CACHE'] = cache_dir\n",
    "os.environ['HF_DATASETS_CACHE'] = cache_dir\n",
    "\n",
    "# Clean imports using our editable package\n",
    "from src.evals import load_dataset_for_ccs\n",
    "from src.methods import get_results_on_dataset\n",
    "from src.plotting import plot_auroc_comparison\n",
    "import matplotlib.pyplot as plt"
   ]
  },
  {
   "cell_type": "code",
   "execution_count": null,
   "metadata": {},
   "outputs": [],
   "source": [
    "all_available_datasets = [\n",
    "    # \"boolq\",\n",
    "    # \"dbpedia_14\",\n",
    "    # \"imdb\",\n",
    "    \"ag_news\",\n",
    "    # \"amazon_polarity\",\n",
    "    # \"piqa\",\n",
    "    #\"got_sp_en_trans\", # Empty for some reason\n",
    "    # \"rte\",\n",
    "    #\"got_larger_than\",\n",
    "    #\"got_cities\",\n",
    "    #\"copa\",\n",
    "]\n",
    "\n",
    "#model_name = \"meta-llama/Llama-2-13b-hf\"\n",
    "#model_name = \"meta-llama/Llama-3.1-8B\"\n",
    "model_name = \"meta-llama/Llama-2-13b-chat-hf\"\n",
    "    \n",
    "all_results_dict = {}\n",
    "for dataset_name in all_available_datasets:\n",
    "    dataset = load_dataset_for_ccs(\n",
    "        dataset_name=dataset_name,\n",
    "        split=\"train\", \n",
    "        max_examples=200,\n",
    "        seed=42,\n",
    "    )\n",
    "    all_results_dict[dataset_name] = get_results_on_dataset(\n",
    "        dataset=dataset,\n",
    "        model_name=model_name,\n",
    "        layer_idx=33,\n",
    "        batch_size=8,\n",
    "        run_methods = [\"supervised\", \"ccs\"]\n",
    "    )\n",
    "\n",
    "# Option 1: Modern bar plot\n",
    "fig1, ax1 = plot_auroc_comparison(all_results_dict, style='modern')\n",
    "plt.show()"
   ]
  },
  {
   "cell_type": "code",
   "execution_count": null,
   "metadata": {},
   "outputs": [],
   "source": [
    "print(all_results_dict)"
   ]
  },
  {
   "cell_type": "code",
   "execution_count": null,
   "metadata": {},
   "outputs": [],
   "source": []
  }
 ],
 "metadata": {
  "kernelspec": {
   "display_name": ".venv",
   "language": "python",
   "name": "python3"
  },
  "language_info": {
   "codemirror_mode": {
    "name": "ipython",
    "version": 3
   },
   "file_extension": ".py",
   "mimetype": "text/x-python",
   "name": "python",
   "nbconvert_exporter": "python",
   "pygments_lexer": "ipython3",
   "version": "3.13.0"
  }
 },
 "nbformat": 4,
 "nbformat_minor": 4
}
